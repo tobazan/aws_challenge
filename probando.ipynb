{
 "cells": [
  {
   "cell_type": "code",
   "execution_count": 1,
   "metadata": {},
   "outputs": [],
   "source": [
    "import pandas as pd\n",
    "import psycopg2\n",
    "import boto3\n",
    "import json"
   ]
  },
  {
   "cell_type": "markdown",
   "metadata": {},
   "source": [
    "### SECRETS MANAGER \n",
    "\n",
    "___\n",
    "\n",
    "Una vez loggeado en la consola de AWS ir al **secrets manager** para conocer los secretos necesarios para conectarse a la isntacia RDS y consultar la BD\n",
    "\n",
    "En el **secrets manager** habra que ingresar a *postgres-credentials* y ahi clickear el boton *Retrieve secret value*"
   ]
  },
  {
   "cell_type": "code",
   "execution_count": 2,
   "metadata": {},
   "outputs": [],
   "source": [
    "import os\n",
    "from dotenv import load_dotenv\n",
    "\n",
    "load_dotenv()\n",
    "\n",
    "host = os.getenv('RDS_HOST')\n",
    "user = os.getenv('RDS_USER')\n",
    "password = os.getenv('RDS_PASS')"
   ]
  },
  {
   "cell_type": "code",
   "execution_count": 3,
   "metadata": {},
   "outputs": [],
   "source": [
    "conn = psycopg2.connect(\n",
    "    host = host,\n",
    "    database = 'postgres',\n",
    "    user = user,\n",
    "    password = password)\n",
    "cursor = conn.cursor()"
   ]
  },
  {
   "cell_type": "code",
   "execution_count": 4,
   "metadata": {},
   "outputs": [
    {
     "data": {
      "text/html": [
       "<div>\n",
       "<style scoped>\n",
       "    .dataframe tbody tr th:only-of-type {\n",
       "        vertical-align: middle;\n",
       "    }\n",
       "\n",
       "    .dataframe tbody tr th {\n",
       "        vertical-align: top;\n",
       "    }\n",
       "\n",
       "    .dataframe thead th {\n",
       "        text-align: right;\n",
       "    }\n",
       "</style>\n",
       "<table border=\"1\" class=\"dataframe\">\n",
       "  <thead>\n",
       "    <tr style=\"text-align: right;\">\n",
       "      <th></th>\n",
       "      <th>table_catalog</th>\n",
       "      <th>table_schema</th>\n",
       "      <th>table_name</th>\n",
       "      <th>table_type</th>\n",
       "    </tr>\n",
       "  </thead>\n",
       "  <tbody>\n",
       "    <tr>\n",
       "      <th>0</th>\n",
       "      <td>postgres</td>\n",
       "      <td>monks</td>\n",
       "      <td>hits</td>\n",
       "      <td>BASE TABLE</td>\n",
       "    </tr>\n",
       "    <tr>\n",
       "      <th>1</th>\n",
       "      <td>postgres</td>\n",
       "      <td>monks</td>\n",
       "      <td>daily_hits_agg</td>\n",
       "      <td>BASE TABLE</td>\n",
       "    </tr>\n",
       "  </tbody>\n",
       "</table>\n",
       "</div>"
      ],
      "text/plain": [
       "  table_catalog table_schema      table_name  table_type\n",
       "0      postgres        monks            hits  BASE TABLE\n",
       "1      postgres        monks  daily_hits_agg  BASE TABLE"
      ]
     },
     "execution_count": 4,
     "metadata": {},
     "output_type": "execute_result"
    }
   ],
   "source": [
    "cursor.execute(\"\"\"\n",
    "        SELECT table_catalog, table_schema, table_name, table_type\n",
    "        FROM information_schema.tables \n",
    "        WHERE table_schema = 'monks';\n",
    "\"\"\")\n",
    "\n",
    "results = pd.DataFrame(cursor.fetchall())\n",
    "results.columns = [desc[0] for desc in cursor.description]\n",
    "results"
   ]
  },
  {
   "cell_type": "markdown",
   "metadata": {},
   "source": [
    "ambas tablas fueron creadas"
   ]
  },
  {
   "cell_type": "code",
   "execution_count": 5,
   "metadata": {},
   "outputs": [
    {
     "data": {
      "text/html": [
       "<div>\n",
       "<style scoped>\n",
       "    .dataframe tbody tr th:only-of-type {\n",
       "        vertical-align: middle;\n",
       "    }\n",
       "\n",
       "    .dataframe tbody tr th {\n",
       "        vertical-align: top;\n",
       "    }\n",
       "\n",
       "    .dataframe thead th {\n",
       "        text-align: right;\n",
       "    }\n",
       "</style>\n",
       "<table border=\"1\" class=\"dataframe\">\n",
       "  <thead>\n",
       "    <tr style=\"text-align: right;\">\n",
       "      <th></th>\n",
       "      <th>userid</th>\n",
       "      <th>visitid</th>\n",
       "      <th>date</th>\n",
       "      <th>device</th>\n",
       "      <th>city</th>\n",
       "      <th>hit_count</th>\n",
       "    </tr>\n",
       "  </thead>\n",
       "  <tbody>\n",
       "    <tr>\n",
       "      <th>0</th>\n",
       "      <td>884932399915132</td>\n",
       "      <td>1499010813</td>\n",
       "      <td>2017-07-02</td>\n",
       "      <td>mobile</td>\n",
       "      <td>San Francisco</td>\n",
       "      <td>9</td>\n",
       "    </tr>\n",
       "    <tr>\n",
       "      <th>1</th>\n",
       "      <td>1563469934876372</td>\n",
       "      <td>1498960250</td>\n",
       "      <td>2017-07-01</td>\n",
       "      <td>mobile</td>\n",
       "      <td>San Jose</td>\n",
       "      <td>6</td>\n",
       "    </tr>\n",
       "    <tr>\n",
       "      <th>2</th>\n",
       "      <td>1563469934876372</td>\n",
       "      <td>1498960593</td>\n",
       "      <td>2017-07-01</td>\n",
       "      <td>mobile</td>\n",
       "      <td>San Jose</td>\n",
       "      <td>2</td>\n",
       "    </tr>\n",
       "    <tr>\n",
       "      <th>3</th>\n",
       "      <td>3409332501133020</td>\n",
       "      <td>1498936817</td>\n",
       "      <td>2017-07-01</td>\n",
       "      <td>mobile</td>\n",
       "      <td>not available in demo dataset</td>\n",
       "      <td>1</td>\n",
       "    </tr>\n",
       "    <tr>\n",
       "      <th>4</th>\n",
       "      <td>4946235279474055</td>\n",
       "      <td>1498961332</td>\n",
       "      <td>2017-07-01</td>\n",
       "      <td>mobile</td>\n",
       "      <td>not available in demo dataset</td>\n",
       "      <td>1</td>\n",
       "    </tr>\n",
       "    <tr>\n",
       "      <th>5</th>\n",
       "      <td>8254883062403392</td>\n",
       "      <td>1498968649</td>\n",
       "      <td>2017-07-01</td>\n",
       "      <td>desktop</td>\n",
       "      <td>not available in demo dataset</td>\n",
       "      <td>1</td>\n",
       "    </tr>\n",
       "    <tr>\n",
       "      <th>6</th>\n",
       "      <td>12926685806111912</td>\n",
       "      <td>1499021725</td>\n",
       "      <td>2017-07-02</td>\n",
       "      <td>desktop</td>\n",
       "      <td>not available in demo dataset</td>\n",
       "      <td>1</td>\n",
       "    </tr>\n",
       "    <tr>\n",
       "      <th>7</th>\n",
       "      <td>14201933474364573</td>\n",
       "      <td>1498947269</td>\n",
       "      <td>2017-07-01</td>\n",
       "      <td>desktop</td>\n",
       "      <td>not available in demo dataset</td>\n",
       "      <td>2</td>\n",
       "    </tr>\n",
       "    <tr>\n",
       "      <th>8</th>\n",
       "      <td>16064855417596824</td>\n",
       "      <td>1498902310</td>\n",
       "      <td>2017-07-01</td>\n",
       "      <td>desktop</td>\n",
       "      <td>not available in demo dataset</td>\n",
       "      <td>4</td>\n",
       "    </tr>\n",
       "    <tr>\n",
       "      <th>9</th>\n",
       "      <td>17049423592725683</td>\n",
       "      <td>1498901840</td>\n",
       "      <td>2017-07-01</td>\n",
       "      <td>desktop</td>\n",
       "      <td>not available in demo dataset</td>\n",
       "      <td>9</td>\n",
       "    </tr>\n",
       "  </tbody>\n",
       "</table>\n",
       "</div>"
      ],
      "text/plain": [
       "              userid     visitid        date   device  \\\n",
       "0    884932399915132  1499010813  2017-07-02   mobile   \n",
       "1   1563469934876372  1498960250  2017-07-01   mobile   \n",
       "2   1563469934876372  1498960593  2017-07-01   mobile   \n",
       "3   3409332501133020  1498936817  2017-07-01   mobile   \n",
       "4   4946235279474055  1498961332  2017-07-01   mobile   \n",
       "5   8254883062403392  1498968649  2017-07-01  desktop   \n",
       "6  12926685806111912  1499021725  2017-07-02  desktop   \n",
       "7  14201933474364573  1498947269  2017-07-01  desktop   \n",
       "8  16064855417596824  1498902310  2017-07-01  desktop   \n",
       "9  17049423592725683  1498901840  2017-07-01  desktop   \n",
       "\n",
       "                            city  hit_count  \n",
       "0                  San Francisco          9  \n",
       "1                       San Jose          6  \n",
       "2                       San Jose          2  \n",
       "3  not available in demo dataset          1  \n",
       "4  not available in demo dataset          1  \n",
       "5  not available in demo dataset          1  \n",
       "6  not available in demo dataset          1  \n",
       "7  not available in demo dataset          2  \n",
       "8  not available in demo dataset          4  \n",
       "9  not available in demo dataset          9  "
      ]
     },
     "execution_count": 5,
     "metadata": {},
     "output_type": "execute_result"
    }
   ],
   "source": [
    "cursor.execute(\"SELECT * FROM monks.hits LIMIT 10;\")\n",
    "results = pd.DataFrame(cursor.fetchall())\n",
    "results.columns = [desc[0] for desc in cursor.description]\n",
    "results"
   ]
  },
  {
   "cell_type": "markdown",
   "metadata": {},
   "source": [
    "tenemos el conteo de hits por user/session"
   ]
  },
  {
   "cell_type": "code",
   "execution_count": 6,
   "metadata": {},
   "outputs": [
    {
     "data": {
      "text/html": [
       "<div>\n",
       "<style scoped>\n",
       "    .dataframe tbody tr th:only-of-type {\n",
       "        vertical-align: middle;\n",
       "    }\n",
       "\n",
       "    .dataframe tbody tr th {\n",
       "        vertical-align: top;\n",
       "    }\n",
       "\n",
       "    .dataframe thead th {\n",
       "        text-align: right;\n",
       "    }\n",
       "</style>\n",
       "<table border=\"1\" class=\"dataframe\">\n",
       "  <thead>\n",
       "    <tr style=\"text-align: right;\">\n",
       "      <th></th>\n",
       "      <th>date</th>\n",
       "      <th>hits_total_count</th>\n",
       "      <th>users_total_count</th>\n",
       "    </tr>\n",
       "  </thead>\n",
       "  <tbody>\n",
       "    <tr>\n",
       "      <th>0</th>\n",
       "      <td>2017-07-01</td>\n",
       "      <td>7975</td>\n",
       "      <td>1946</td>\n",
       "    </tr>\n",
       "    <tr>\n",
       "      <th>1</th>\n",
       "      <td>2017-07-02</td>\n",
       "      <td>6618</td>\n",
       "      <td>1791</td>\n",
       "    </tr>\n",
       "    <tr>\n",
       "      <th>2</th>\n",
       "      <td>2017-07-03</td>\n",
       "      <td>7705</td>\n",
       "      <td>1904</td>\n",
       "    </tr>\n",
       "    <tr>\n",
       "      <th>3</th>\n",
       "      <td>2017-07-04</td>\n",
       "      <td>6661</td>\n",
       "      <td>1799</td>\n",
       "    </tr>\n",
       "  </tbody>\n",
       "</table>\n",
       "</div>"
      ],
      "text/plain": [
       "         date  hits_total_count  users_total_count\n",
       "0  2017-07-01              7975               1946\n",
       "1  2017-07-02              6618               1791\n",
       "2  2017-07-03              7705               1904\n",
       "3  2017-07-04              6661               1799"
      ]
     },
     "execution_count": 6,
     "metadata": {},
     "output_type": "execute_result"
    }
   ],
   "source": [
    "cursor.execute(\"SELECT * FROM monks.daily_hits_agg;\")\n",
    "results = pd.DataFrame(cursor.fetchall())\n",
    "results.columns = [desc[0] for desc in cursor.description]\n",
    "results"
   ]
  },
  {
   "cell_type": "markdown",
   "metadata": {},
   "source": [
    "los calculos agregados diariamente son correctos"
   ]
  },
  {
   "cell_type": "code",
   "execution_count": 7,
   "metadata": {},
   "outputs": [],
   "source": [
    "cursor.close()\n",
    "conn.close()"
   ]
  },
  {
   "cell_type": "markdown",
   "metadata": {},
   "source": [
    "Corroborando calculos"
   ]
  },
  {
   "cell_type": "code",
   "execution_count": 9,
   "metadata": {},
   "outputs": [],
   "source": [
    "df1=pd.read_json('./data/bquxjob_1178c782_183cbd27267.json')\n",
    "df2=pd.read_json('./data/bquxjob_1c947e3c_183cbd23bb4.json')\n",
    "df3=pd.read_json('./data/bquxjob_1fa5eddf_183cbd1de05.json')\n",
    "\n",
    "df = pd.concat([df1,df2,df3], ignore_index=True)\n",
    "\n",
    "df = df.explode('hit')"
   ]
  },
  {
   "cell_type": "code",
   "execution_count": 10,
   "metadata": {},
   "outputs": [
    {
     "data": {
      "text/plain": [
       "date\n",
       "20170701    1946\n",
       "20170702    1791\n",
       "20170703    1904\n",
       "20170704    1799\n",
       "Name: userId, dtype: int64"
      ]
     },
     "execution_count": 10,
     "metadata": {},
     "output_type": "execute_result"
    }
   ],
   "source": [
    "df.groupby(\"date\")['userId'].nunique()"
   ]
  },
  {
   "cell_type": "code",
   "execution_count": 12,
   "metadata": {},
   "outputs": [
    {
     "data": {
      "text/plain": [
       "date\n",
       "20170701    7975\n",
       "20170702    6618\n",
       "20170703    7705\n",
       "20170704    6661\n",
       "Name: hit, dtype: int64"
      ]
     },
     "execution_count": 12,
     "metadata": {},
     "output_type": "execute_result"
    }
   ],
   "source": [
    "df.groupby(\"date\")['hit'].count()"
   ]
  },
  {
   "cell_type": "markdown",
   "metadata": {},
   "source": [
    "tanto el conteo de unique users por dia y el conteo de hits calculado por las funciones lambda y escrito en la BD RDS son correctos o al menos coinciden con los json files"
   ]
  }
 ],
 "metadata": {
  "kernelspec": {
   "display_name": "Python 3.8.10 64-bit",
   "language": "python",
   "name": "python3"
  },
  "language_info": {
   "codemirror_mode": {
    "name": "ipython",
    "version": 3
   },
   "file_extension": ".py",
   "mimetype": "text/x-python",
   "name": "python",
   "nbconvert_exporter": "python",
   "pygments_lexer": "ipython3",
   "version": "3.8.10"
  },
  "orig_nbformat": 4,
  "vscode": {
   "interpreter": {
    "hash": "916dbcbb3f70747c44a77c7bcd40155683ae19c65e1c03b4aa3499c5328201f1"
   }
  }
 },
 "nbformat": 4,
 "nbformat_minor": 2
}
